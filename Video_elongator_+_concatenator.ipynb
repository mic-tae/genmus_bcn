{
  "nbformat": 4,
  "nbformat_minor": 0,
  "metadata": {
    "colab": {
      "provenance": []
    },
    "kernelspec": {
      "name": "python3",
      "display_name": "Python 3"
    },
    "language_info": {
      "name": "python"
    }
  },
  "cells": [
    {
      "cell_type": "code",
      "execution_count": null,
      "metadata": {
        "id": "WP0gZU3tAIfc"
      },
      "outputs": [],
      "source": [
        "import subprocess\n",
        "\n",
        "def extend_video_ffmpeg(input_video_path, output_video_path, target_duration):\n",
        "    # Calculate the number of times the video needs to be repeated\n",
        "    # Assuming the original video is exactly 3 seconds\n",
        "    loop_count = target_duration // 3\n",
        "\n",
        "    # Construct the FFmpeg command\n",
        "    cmd = [\n",
        "        'ffmpeg',\n",
        "        '-stream_loop', str(loop_count - 1),  # loop count, minus one because the first play isn't a loop\n",
        "        '-i', input_video_path,               # input file\n",
        "        '-c', 'copy',                         # use the same codec\n",
        "        '-t', str(target_duration),           # target duration in seconds\n",
        "        output_video_path                     # output file\n",
        "    ]\n",
        "\n",
        "    # Execute the FFmpeg command\n",
        "    subprocess.run(cmd)\n",
        "\n",
        "# Example usage\n",
        "extend_video_ffmpeg('/content/P3_HI_3s.mp4', '/content/P3_hi_30s.mp4', 30)"
      ]
    },
    {
      "cell_type": "code",
      "source": [
        "pip install moviepy\n"
      ],
      "metadata": {
        "colab": {
          "base_uri": "https://localhost:8080/"
        },
        "id": "y7LuQfhVmGWL",
        "outputId": "ae562096-c652-4546-e9b5-c53e2d4af947"
      },
      "execution_count": 1,
      "outputs": [
        {
          "output_type": "stream",
          "name": "stdout",
          "text": [
            "Requirement already satisfied: moviepy in /usr/local/lib/python3.10/dist-packages (1.0.3)\n",
            "Requirement already satisfied: decorator<5.0,>=4.0.2 in /usr/local/lib/python3.10/dist-packages (from moviepy) (4.4.2)\n",
            "Requirement already satisfied: tqdm<5.0,>=4.11.2 in /usr/local/lib/python3.10/dist-packages (from moviepy) (4.66.1)\n",
            "Requirement already satisfied: requests<3.0,>=2.8.1 in /usr/local/lib/python3.10/dist-packages (from moviepy) (2.31.0)\n",
            "Requirement already satisfied: proglog<=1.0.0 in /usr/local/lib/python3.10/dist-packages (from moviepy) (0.1.10)\n",
            "Requirement already satisfied: numpy>=1.17.3 in /usr/local/lib/python3.10/dist-packages (from moviepy) (1.23.5)\n",
            "Requirement already satisfied: imageio<3.0,>=2.5 in /usr/local/lib/python3.10/dist-packages (from moviepy) (2.31.6)\n",
            "Requirement already satisfied: imageio-ffmpeg>=0.2.0 in /usr/local/lib/python3.10/dist-packages (from moviepy) (0.4.9)\n",
            "Requirement already satisfied: pillow<10.1.0,>=8.3.2 in /usr/local/lib/python3.10/dist-packages (from imageio<3.0,>=2.5->moviepy) (9.4.0)\n",
            "Requirement already satisfied: setuptools in /usr/local/lib/python3.10/dist-packages (from imageio-ffmpeg>=0.2.0->moviepy) (67.7.2)\n",
            "Requirement already satisfied: charset-normalizer<4,>=2 in /usr/local/lib/python3.10/dist-packages (from requests<3.0,>=2.8.1->moviepy) (3.3.2)\n",
            "Requirement already satisfied: idna<4,>=2.5 in /usr/local/lib/python3.10/dist-packages (from requests<3.0,>=2.8.1->moviepy) (3.6)\n",
            "Requirement already satisfied: urllib3<3,>=1.21.1 in /usr/local/lib/python3.10/dist-packages (from requests<3.0,>=2.8.1->moviepy) (2.0.7)\n",
            "Requirement already satisfied: certifi>=2017.4.17 in /usr/local/lib/python3.10/dist-packages (from requests<3.0,>=2.8.1->moviepy) (2023.11.17)\n"
          ]
        }
      ]
    },
    {
      "cell_type": "code",
      "source": [
        "from moviepy.editor import VideoFileClip, CompositeVideoClip\n",
        "\n",
        "def merge_videos_with_transition(video_paths, output_path, transition_duration):\n",
        "    # Load the video clips\n",
        "    clips = [VideoFileClip(path) for path in video_paths]\n",
        "\n",
        "    # List to store final clips with transitions\n",
        "    #final_clips = CompositeVideoClip([clips[0],clips[1]])\n",
        "    final_clips = [clips[0]]\n",
        "\n",
        "    # Apply the dissolve transition to each clip except the first\n",
        "    for i in range(1, len(clips)):\n",
        "        clips[i] = clips[i].crossfadein(transition_duration)\n",
        "        clips[i] = clips[i].set_start(clips[i-1].duration*i-transition_duration*i)\n",
        "        final_clips.append(clips[i])\n",
        "\n",
        "    # Composite video clip with the transitions\n",
        "    final_clip = CompositeVideoClip(final_clips, size=clips[0].size) #.set_duration(sum([clip.duration for clip in clips]) - transition_duration * (len(clips) - 1))\n",
        "\n",
        "    # Write the result to a file\n",
        "    final_clip.write_videofile(output_path, codec=\"libx264\", fps=24)\n",
        "\n",
        "\n",
        "# Example usage\n",
        "video_paths = ['/content/P1_hi_30s.mp4',\n",
        "               '/content/P2_hi_30s.mp4',\n",
        "               '/content/P3_hi_30s.mp4',\n",
        "               '/content/P4_hi_30s.mp4',\n",
        "               '/content/P5_hi_30s.mp4',\n",
        "               ]\n",
        "merge_videos_with_transition(video_paths, '/content/merged_video_demo.mp4', 3)  # 3 seconds of transition\n",
        "\n"
      ],
      "metadata": {
        "colab": {
          "base_uri": "https://localhost:8080/"
        },
        "id": "asU3ELVlkmYQ",
        "outputId": "68018a90-3c46-4f0b-9ba1-f5596024f3bf"
      },
      "execution_count": null,
      "outputs": [
        {
          "output_type": "stream",
          "name": "stdout",
          "text": [
            "Moviepy - Building video /content/merged_video_demo.mp4.\n",
            "Moviepy - Writing video /content/merged_video_demo.mp4\n",
            "\n"
          ]
        },
        {
          "output_type": "stream",
          "name": "stderr",
          "text": [
            "t:   3%|▎         | 94/3312 [00:43<47:38,  1.13it/s, now=None]"
          ]
        }
      ]
    }
  ]
}